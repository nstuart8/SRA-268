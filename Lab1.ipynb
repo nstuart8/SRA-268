{
  "nbformat": 4,
  "nbformat_minor": 0,
  "metadata": {
    "colab": {
      "name": "Lab1.ipynb",
      "provenance": [],
      "authorship_tag": "ABX9TyOAe0AbyHPHekydxPHWf+2U",
      "include_colab_link": true
    },
    "kernelspec": {
      "name": "python3",
      "display_name": "Python 3"
    }
  },
  "cells": [
    {
      "cell_type": "markdown",
      "metadata": {
        "id": "view-in-github",
        "colab_type": "text"
      },
      "source": [
        "<a href=\"https://colab.research.google.com/github/nstuart8/SRA-268/blob/master/Lab1.ipynb\" target=\"_parent\"><img src=\"https://colab.research.google.com/assets/colab-badge.svg\" alt=\"Open In Colab\"/></a>"
      ]
    },
    {
      "cell_type": "markdown",
      "metadata": {
        "id": "lfSIsDaWAAkQ",
        "colab_type": "text"
      },
      "source": [
        "# Cold Hearted "
      ]
    },
    {
      "cell_type": "markdown",
      "metadata": {
        "id": "_nye-8tuA1-G",
        "colab_type": "text"
      },
      "source": [
        "# Abstract\n",
        "This project will plot and analyze the minimum temperature on Valentine's Day, February 14th, from 2017 to 2019 in State College, Pennsylvania.  NOAA data is utilized in this regard.\n",
        "The aim of this project is to identify temperature trends over the long term - Valentine's Day was selected simply due to its relative temporal proximity to the conception of this project."
      ]
    },
    {
      "cell_type": "markdown",
      "metadata": {
        "id": "aeqPRmYTCZ5O",
        "colab_type": "text"
      },
      "source": [
        "#Plot of Min. Temp.: 2/14, 2017-19"
      ]
    },
    {
      "cell_type": "markdown",
      "metadata": {
        "id": "KXyvneShd_7p",
        "colab_type": "text"
      },
      "source": [
        "![alt text](https://github.com/nstuart8/SRA-268/blob/master/images/Lab1.JPG?raw=true)"
      ]
    },
    {
      "cell_type": "markdown",
      "metadata": {
        "id": "nVmOmb8Kekja",
        "colab_type": "text"
      },
      "source": [
        "#Conclusion\n",
        "In conclusion, there is no real trend that can be found, although each day was below freezing temperatures.  2018 was the coldest at 20 degrees, followed by 2017 at 21 degrees and 2019 at 25 degrees.  Hundreds of variables can affect how cold a day can get, and there is likely some change in these variables annually.  I was hoping to identify some sort of pattern, but here, there is none. "
      ]
    }
  ]
}