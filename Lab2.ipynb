{
  "nbformat": 4,
  "nbformat_minor": 0,
  "metadata": {
    "colab": {
      "name": "Lab2.ipynb",
      "provenance": [],
      "include_colab_link": true
    },
    "kernelspec": {
      "name": "python3",
      "display_name": "Python 3"
    }
  },
  "cells": [
    {
      "cell_type": "markdown",
      "metadata": {
        "id": "view-in-github",
        "colab_type": "text"
      },
      "source": [
        "<a href=\"https://colab.research.google.com/github/nstuart8/SRA-268/blob/master/Lab2.ipynb\" target=\"_parent\"><img src=\"https://colab.research.google.com/assets/colab-badge.svg\" alt=\"Open In Colab\"/></a>"
      ]
    },
    {
      "cell_type": "markdown",
      "metadata": {
        "id": "6sOc4Uyr4U-Z",
        "colab_type": "text"
      },
      "source": [
        "## Graph Types"
      ]
    },
    {
      "cell_type": "markdown",
      "metadata": {
        "id": "0zZdVLAd5CYr",
        "colab_type": "text"
      },
      "source": [
        "Creator\n",
        "* Nicholas Stuart"
      ]
    },
    {
      "cell_type": "markdown",
      "metadata": {
        "id": "g-r6Clq45Hn4",
        "colab_type": "text"
      },
      "source": [
        "### Deviation\n"
      ]
    },
    {
      "cell_type": "markdown",
      "metadata": {
        "id": "2gorxo6E7A0t",
        "colab_type": "text"
      },
      "source": [
        "![alt text](https://github.com/nstuart8/SRA-268/blob/master/Lab%202%20-%20Deviation.png?raw=true)"
      ]
    },
    {
      "cell_type": "markdown",
      "metadata": {
        "id": "w6bZ_NEi7E3w",
        "colab_type": "text"
      },
      "source": [
        "#### What is this telling us?"
      ]
    },
    {
      "cell_type": "markdown",
      "metadata": {
        "id": "95L-spaC7QHF",
        "colab_type": "text"
      },
      "source": [
        "This graph demonstrates the amount of points gained in a win each year, divided into categories of mammal vs. non-animal mascots.  Unfortunately, I could not figure out how to create a dual axis, and so it appears to sum all of the points.  However, the two categories are separate entities.  While the graph itself is not as clean as it should be, live usage of it would demonstrate how many points teams with mammalian and non-animal mascots scored in a winning effort."
      ]
    },
    {
      "cell_type": "markdown",
      "metadata": {
        "id": "YgXyXjmz7cDP",
        "colab_type": "text"
      },
      "source": [
        "### Correlation\n"
      ]
    },
    {
      "cell_type": "markdown",
      "metadata": {
        "id": "SGx15rZq7hvt",
        "colab_type": "text"
      },
      "source": [
        "![alt text](https://github.com/nstuart8/SRA-268/blob/master/Lab%202%20-%20Correlation.png?raw=true)"
      ]
    },
    {
      "cell_type": "markdown",
      "metadata": {
        "id": "dljjONNi7jmj",
        "colab_type": "text"
      },
      "source": [
        "#### What is this telling us?"
      ]
    },
    {
      "cell_type": "markdown",
      "metadata": {
        "id": "PwZEZrFB7laG",
        "colab_type": "text"
      },
      "source": [
        "This graph displays the correlation between the seed of a winning team and the total points that each seed has ever scored in a winning effort.  It makes sense that the 1 seed historically has the most winning points (16 seeds almost never upset 1 seeds).  It is interesting that the 16 seed has, in total, scored more winning points than the 15 seed.  Overall, however, the general trend is that with decreasing seed (i.e. from 1 to 16), the amount of winning points decreases.  This graph clearly demonstrates this fact with the trend line as well."
      ]
    },
    {
      "cell_type": "markdown",
      "metadata": {
        "id": "MqUdI-uL7r2s",
        "colab_type": "text"
      },
      "source": [
        "### Ranking\n"
      ]
    },
    {
      "cell_type": "markdown",
      "metadata": {
        "id": "AvlxCOVt7x9F",
        "colab_type": "text"
      },
      "source": [
        "![alt text](https://github.com/nstuart8/SRA-268/blob/master/Lab%202%20-%20Ranking.png?raw=true)"
      ]
    },
    {
      "cell_type": "markdown",
      "metadata": {
        "id": "lCAYtfza7yTq",
        "colab_type": "text"
      },
      "source": [
        "#### What is this telling us?"
      ]
    },
    {
      "cell_type": "markdown",
      "metadata": {
        "id": "MyuciD277ygU",
        "colab_type": "text"
      },
      "source": [
        "The data for this set was parsed into mascots, then further divided into animal and non-animal mascots for each team.  This  graph ranks how many points each taxonomic class have scored in winning efforts, and lists them in ascending order.  As shown, Arachnida and Liliopsida are the two lowest (likely due to a small number of schools having animals belonging to this class).  The \"null\" bar does not represent a taxonomic class - instead, it represents all non-animal mascots (e.g. Duke Blue Devils).  Aves (birds) and Mammalia (mammals) have the second most and most total points, respectively.  This is not surprising, as many schools adopt birds (Kansas Jayhawks) and mammals (Penn State Nittany Lions) as their mascots.  The spatial aesthetic is easy on the eyes, as is the color. "
      ]
    },
    {
      "cell_type": "markdown",
      "metadata": {
        "id": "dGDGl8-G7y8Y",
        "colab_type": "text"
      },
      "source": [
        "### Distribution\n"
      ]
    },
    {
      "cell_type": "markdown",
      "metadata": {
        "id": "FB0uV-jy76p9",
        "colab_type": "text"
      },
      "source": [
        "![alt text](https://github.com/nstuart8/SRA-268/blob/master/Lab%202%20-%20Distribution.png?raw=true)"
      ]
    },
    {
      "cell_type": "markdown",
      "metadata": {
        "id": "_6SOzhrQ76zH",
        "colab_type": "text"
      },
      "source": [
        "#### What is this telling us?"
      ]
    },
    {
      "cell_type": "markdown",
      "metadata": {
        "id": "HBWqsS_g767h",
        "colab_type": "text"
      },
      "source": [
        "This distribution exhibits how frequently teams' scores fall within multiple ranges of points during a losing effort.  The curve is normally distributed, which means that normal statistical analysis, such as the 68-95-99 rule for standard deviations, applies.  It is sensible that very few teams have scored    85+ points and lost, as it is very difficult to reach this amount of points in 20 minute halves.  This graph does a good job at displaying the normally distributed bellcurve, and I would not be surprised if the frequency of points in a win were similarly distributed."
      ]
    },
    {
      "cell_type": "markdown",
      "metadata": {
        "id": "wQsDThk677Fy",
        "colab_type": "text"
      },
      "source": [
        "### Change over Time\n"
      ]
    },
    {
      "cell_type": "markdown",
      "metadata": {
        "id": "Z1j_YLOA7_OK",
        "colab_type": "text"
      },
      "source": [
        "![alt text](https://github.com/nstuart8/SRA-268/blob/master/Lab%202%20-%20Change%20Over%20Time.png?raw=true)"
      ]
    },
    {
      "cell_type": "markdown",
      "metadata": {
        "id": "mpfsmmgi7_Vj",
        "colab_type": "text"
      },
      "source": [
        "#### What is this telling us?"
      ]
    },
    {
      "cell_type": "markdown",
      "metadata": {
        "id": "rYLXoMMO7_di",
        "colab_type": "text"
      },
      "source": [
        "This graph displays the average number of points in a win by year.  The average takes a rather significant increase in the late 1980s, and fluctuates up and down through the years.  Offensive production has recently increased, so the trend upward in the mid-2010s is sensible.  Overall, average winning points have gently decreased, as noted by the included trend line.  Spatially, the y-axis could have been collapsed, as no data point comes remotely close to touching 60, let along 40 or 20.  The representation is good in general, but some aesthetic improvements could be made.  I was surprised to identify the downward trend in average points scored in wins - I wonder what could have caused this."
      ]
    },
    {
      "cell_type": "markdown",
      "metadata": {
        "id": "lFwiHoE-7_jZ",
        "colab_type": "text"
      },
      "source": [
        "### Magnitude\n"
      ]
    },
    {
      "cell_type": "markdown",
      "metadata": {
        "id": "ICQFnXj78EbF",
        "colab_type": "text"
      },
      "source": [
        "![alt text](https://github.com/nstuart8/SRA-268/blob/master/Lab%202%20-%20Magnitude.png?raw=true)"
      ]
    },
    {
      "cell_type": "markdown",
      "metadata": {
        "id": "QGG7XYG88Eii",
        "colab_type": "text"
      },
      "source": [
        "#### What is this telling us?"
      ]
    },
    {
      "cell_type": "markdown",
      "metadata": {
        "id": "VS7uGa0l8Eos",
        "colab_type": "text"
      },
      "source": [
        "This graph is similar in spirit to the above correlation graph which quantitatively displays total points that each seed has scored in a win.  The difference here is that this magnitude graph approaches the data qualitatively, utilizing sizes to highlight which seeds have scored the most winning points (as opposed to actually drilling down into the statistics).  I like this graph for the most part - it's easy to identify most of the seeds' magnitude immediately.  White space here is good as well.  This graph can be improved possibly by keeping the same color and adding labels to the smallest circles.  Overall, it just needs some aesthetic work done to it to be extremely effective."
      ]
    },
    {
      "cell_type": "markdown",
      "metadata": {
        "id": "bEKFxP8R8Evk",
        "colab_type": "text"
      },
      "source": [
        "### Part-to-Whole\n"
      ]
    },
    {
      "cell_type": "markdown",
      "metadata": {
        "id": "WFHlcYKV8E35",
        "colab_type": "text"
      },
      "source": [
        "![alt text](https://github.com/nstuart8/SRA-268/blob/master/Lab%202%20-%20Part%20to%20Whole.png?raw=true)"
      ]
    },
    {
      "cell_type": "markdown",
      "metadata": {
        "id": "PNSd3wlp8UZH",
        "colab_type": "text"
      },
      "source": [
        "#### What is this telling us?"
      ]
    },
    {
      "cell_type": "markdown",
      "metadata": {
        "id": "y9tb_QRA8aqt",
        "colab_type": "text"
      },
      "source": [
        "This pie chart demonstrates the percentage of winning points that each team has scored, based upon their mascot's taxonomic class (or lack thereof).  I am not a big fan of pie charts in general, and I think they better graphs may exist to express parts of a whole.  All of the classes are represented by a different colored slice, but the labels overlapped and looked like a jumbled mess, so I removed them.  Perhaps the cluster legend can be edited to display the actual name of the class as opposed to the cluster number - that would significantly improve the quality of this chart overall."
      ]
    }
  ]
}