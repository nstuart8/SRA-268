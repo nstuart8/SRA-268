{
  "nbformat": 4,
  "nbformat_minor": 0,
  "metadata": {
    "colab": {
      "name": "startingNotebook.ipynb",
      "provenance": [],
      "authorship_tag": "ABX9TyPBufTs8mfERuJyfv0AYEsg",
      "include_colab_link": true
    },
    "kernelspec": {
      "name": "python3",
      "display_name": "Python 3"
    }
  },
  "cells": [
    {
      "cell_type": "markdown",
      "metadata": {
        "id": "view-in-github",
        "colab_type": "text"
      },
      "source": [
        "<a href=\"https://colab.research.google.com/github/nstuart8/SRA-268/blob/master/startingNotebook.ipynb\" target=\"_parent\"><img src=\"https://colab.research.google.com/assets/colab-badge.svg\" alt=\"Open In Colab\"/></a>"
      ]
    },
    {
      "cell_type": "markdown",
      "metadata": {
        "id": "gN58nptR6XRH",
        "colab_type": "text"
      },
      "source": [
        "#Abstract"
      ]
    },
    {
      "cell_type": "markdown",
      "metadata": {
        "id": "dJLuLYHu6Ver",
        "colab_type": "text"
      },
      "source": [
        "![alt text](https://raw.githubusercontent.com/nstuart8/SRA-268/master/60005889%5B3%5D.png?token=AOJZ4APYUVGNOOR4JIW5H426EHCWQ)"
      ]
    }
  ]
}